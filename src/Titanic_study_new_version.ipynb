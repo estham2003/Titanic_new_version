{
 "cells": [
  {
   "cell_type": "markdown",
   "metadata": {},
   "source": [
    "#  TITANIC\n",
    "\n",
    "\n",
    "Hallo und willkommen auf meinem Notebook!\n",
    "\n",
    "Ich denke, ihr kennt alle die berühmte Geschichte der Titanic, und für diejenigen, die sie nicht kennen, ist das auch nicht schlimm! Ich stelle euch den Link in der Beschreibung zur Verfügung, damit ihr noch mehr wisst!\n",
    "\n",
    "https://www.histoire-pour-tous.fr/dossiers/4023-vie-et-mort-du-titanic-16.html\n",
    "\n",
    "Heute wollen wir uns mehr mit den Faktoren beschäftigen, die zum Tod oder Überleben der Reisenden beim Untergang beigetragen haben / haben könnten.\n",
    "\n",
    "- Erstens werden wir die Daten laden.\n",
    "\n",
    "- Zweitens werden wir die Daten bereinigen. Dies ist der wichtigste Teil einer Datenanalyseübung, da viele Entscheidungen getroffen werden müssen, ohne die Konsistenz der Daten zu verringern. Entscheidungen wie das Löschen von Daten und die Frage, ob dies nicht erhebliche Auswirkungen auf unsere Forschung haben würde. Hinzufügen von Daten und Begründen ihrer Verwendung, zum Beispiel.\n",
    "\n",
    "- Drittens folgt eine deskriptive Analyse der Daten.\n",
    "\n",
    "- Danach werden wir die Daten erforschen, um herauszufinden, wie die Variablen miteinander interagieren.\n",
    " \n",
    "- Wir werden auch eine deskriptive Visualisierung der Daten vornehmen.\n",
    "\n",
    "- Und schließlich eine Korrelation zwischen den Variablen herstellen, um festzustellen, wie zwei Faktoren zusammengenommen dazu beigetragen haben, ob die Reisenden an diesem Tag überlebt haben oder nicht.\n",
    "\n",
    "- Maschinelles Lernen"
   ]
  },
  {
   "cell_type": "markdown",
   "metadata": {
    "vscode": {
     "languageId": "plaintext"
    }
   },
   "source": [
    "# IMPORT VON BIBLIOTHEKEN\n",
    "\n",
    "Um bestimmte Manipulationen am Dataset vornehmen zu können, ist es wichtig, Bibliotheken wie z.B. Pandas aufzurufen, die Funktionen oder Methoden enthalten, die zum Lesen und Verarbeiten des Datasets notwendig sind. "
   ]
  },
  {
   "cell_type": "code",
   "execution_count": 6,
   "metadata": {},
   "outputs": [],
   "source": [
    "import pandas as pd  \n",
    "\n",
    "import numpy as np\n",
    "\n",
    "import matplotlib.pyplot as plt\n",
    "\n",
    "from sklearn.preprocessing import LabelEncoder\n",
    "\n",
    "from sklearn.impute import SimpleImputer\n",
    "\n",
    "# Je nach Bedarf werden im Laufe der Arbeit weitere Bibliotheken hinzugefügt."
   ]
  },
  {
   "cell_type": "markdown",
   "metadata": {},
   "source": [
    "# LADEN UND LESEN VON DATEN. \n",
    "\n",
    "Hier geht es einfach darum, das Dataset zu laden und zu lesen. Dadurch ist es möglich, sich einen Überblick über die Daten zu verschaffen und zu bestimmen, welche Variable  vorhergesagt werden soll und welche Variablen vorhergesagt werden sollen."
   ]
  },
  {
   "cell_type": "code",
   "execution_count": 7,
   "metadata": {},
   "outputs": [
    {
     "data": {
      "text/html": [
       "<div>\n",
       "<style scoped>\n",
       "    .dataframe tbody tr th:only-of-type {\n",
       "        vertical-align: middle;\n",
       "    }\n",
       "\n",
       "    .dataframe tbody tr th {\n",
       "        vertical-align: top;\n",
       "    }\n",
       "\n",
       "    .dataframe thead th {\n",
       "        text-align: right;\n",
       "    }\n",
       "</style>\n",
       "<table border=\"1\" class=\"dataframe\">\n",
       "  <thead>\n",
       "    <tr style=\"text-align: right;\">\n",
       "      <th></th>\n",
       "      <th>PassengerId</th>\n",
       "      <th>Survived</th>\n",
       "      <th>Pclass</th>\n",
       "      <th>Name</th>\n",
       "      <th>Sex</th>\n",
       "      <th>Age</th>\n",
       "      <th>SibSp</th>\n",
       "      <th>Parch</th>\n",
       "      <th>Ticket</th>\n",
       "      <th>Fare</th>\n",
       "      <th>Cabin</th>\n",
       "      <th>Embarked</th>\n",
       "    </tr>\n",
       "  </thead>\n",
       "  <tbody>\n",
       "    <tr>\n",
       "      <th>0</th>\n",
       "      <td>1</td>\n",
       "      <td>0</td>\n",
       "      <td>3</td>\n",
       "      <td>Braund, Mr. Owen Harris</td>\n",
       "      <td>male</td>\n",
       "      <td>22.0</td>\n",
       "      <td>1</td>\n",
       "      <td>0</td>\n",
       "      <td>A/5 21171</td>\n",
       "      <td>7.2500</td>\n",
       "      <td>NaN</td>\n",
       "      <td>S</td>\n",
       "    </tr>\n",
       "    <tr>\n",
       "      <th>1</th>\n",
       "      <td>2</td>\n",
       "      <td>1</td>\n",
       "      <td>1</td>\n",
       "      <td>Cumings, Mrs. John Bradley (Florence Briggs Th...</td>\n",
       "      <td>female</td>\n",
       "      <td>38.0</td>\n",
       "      <td>1</td>\n",
       "      <td>0</td>\n",
       "      <td>PC 17599</td>\n",
       "      <td>71.2833</td>\n",
       "      <td>C85</td>\n",
       "      <td>C</td>\n",
       "    </tr>\n",
       "    <tr>\n",
       "      <th>2</th>\n",
       "      <td>3</td>\n",
       "      <td>1</td>\n",
       "      <td>3</td>\n",
       "      <td>Heikkinen, Miss. Laina</td>\n",
       "      <td>female</td>\n",
       "      <td>26.0</td>\n",
       "      <td>0</td>\n",
       "      <td>0</td>\n",
       "      <td>STON/O2. 3101282</td>\n",
       "      <td>7.9250</td>\n",
       "      <td>NaN</td>\n",
       "      <td>S</td>\n",
       "    </tr>\n",
       "    <tr>\n",
       "      <th>3</th>\n",
       "      <td>4</td>\n",
       "      <td>1</td>\n",
       "      <td>1</td>\n",
       "      <td>Futrelle, Mrs. Jacques Heath (Lily May Peel)</td>\n",
       "      <td>female</td>\n",
       "      <td>35.0</td>\n",
       "      <td>1</td>\n",
       "      <td>0</td>\n",
       "      <td>113803</td>\n",
       "      <td>53.1000</td>\n",
       "      <td>C123</td>\n",
       "      <td>S</td>\n",
       "    </tr>\n",
       "    <tr>\n",
       "      <th>4</th>\n",
       "      <td>5</td>\n",
       "      <td>0</td>\n",
       "      <td>3</td>\n",
       "      <td>Allen, Mr. William Henry</td>\n",
       "      <td>male</td>\n",
       "      <td>35.0</td>\n",
       "      <td>0</td>\n",
       "      <td>0</td>\n",
       "      <td>373450</td>\n",
       "      <td>8.0500</td>\n",
       "      <td>NaN</td>\n",
       "      <td>S</td>\n",
       "    </tr>\n",
       "    <tr>\n",
       "      <th>...</th>\n",
       "      <td>...</td>\n",
       "      <td>...</td>\n",
       "      <td>...</td>\n",
       "      <td>...</td>\n",
       "      <td>...</td>\n",
       "      <td>...</td>\n",
       "      <td>...</td>\n",
       "      <td>...</td>\n",
       "      <td>...</td>\n",
       "      <td>...</td>\n",
       "      <td>...</td>\n",
       "      <td>...</td>\n",
       "    </tr>\n",
       "    <tr>\n",
       "      <th>886</th>\n",
       "      <td>887</td>\n",
       "      <td>0</td>\n",
       "      <td>2</td>\n",
       "      <td>Montvila, Rev. Juozas</td>\n",
       "      <td>male</td>\n",
       "      <td>27.0</td>\n",
       "      <td>0</td>\n",
       "      <td>0</td>\n",
       "      <td>211536</td>\n",
       "      <td>13.0000</td>\n",
       "      <td>NaN</td>\n",
       "      <td>S</td>\n",
       "    </tr>\n",
       "    <tr>\n",
       "      <th>887</th>\n",
       "      <td>888</td>\n",
       "      <td>1</td>\n",
       "      <td>1</td>\n",
       "      <td>Graham, Miss. Margaret Edith</td>\n",
       "      <td>female</td>\n",
       "      <td>19.0</td>\n",
       "      <td>0</td>\n",
       "      <td>0</td>\n",
       "      <td>112053</td>\n",
       "      <td>30.0000</td>\n",
       "      <td>B42</td>\n",
       "      <td>S</td>\n",
       "    </tr>\n",
       "    <tr>\n",
       "      <th>888</th>\n",
       "      <td>889</td>\n",
       "      <td>0</td>\n",
       "      <td>3</td>\n",
       "      <td>Johnston, Miss. Catherine Helen \"Carrie\"</td>\n",
       "      <td>female</td>\n",
       "      <td>NaN</td>\n",
       "      <td>1</td>\n",
       "      <td>2</td>\n",
       "      <td>W./C. 6607</td>\n",
       "      <td>23.4500</td>\n",
       "      <td>NaN</td>\n",
       "      <td>S</td>\n",
       "    </tr>\n",
       "    <tr>\n",
       "      <th>889</th>\n",
       "      <td>890</td>\n",
       "      <td>1</td>\n",
       "      <td>1</td>\n",
       "      <td>Behr, Mr. Karl Howell</td>\n",
       "      <td>male</td>\n",
       "      <td>26.0</td>\n",
       "      <td>0</td>\n",
       "      <td>0</td>\n",
       "      <td>111369</td>\n",
       "      <td>30.0000</td>\n",
       "      <td>C148</td>\n",
       "      <td>C</td>\n",
       "    </tr>\n",
       "    <tr>\n",
       "      <th>890</th>\n",
       "      <td>891</td>\n",
       "      <td>0</td>\n",
       "      <td>3</td>\n",
       "      <td>Dooley, Mr. Patrick</td>\n",
       "      <td>male</td>\n",
       "      <td>32.0</td>\n",
       "      <td>0</td>\n",
       "      <td>0</td>\n",
       "      <td>370376</td>\n",
       "      <td>7.7500</td>\n",
       "      <td>NaN</td>\n",
       "      <td>Q</td>\n",
       "    </tr>\n",
       "  </tbody>\n",
       "</table>\n",
       "<p>891 rows × 12 columns</p>\n",
       "</div>"
      ],
      "text/plain": [
       "     PassengerId  Survived  Pclass  \\\n",
       "0              1         0       3   \n",
       "1              2         1       1   \n",
       "2              3         1       3   \n",
       "3              4         1       1   \n",
       "4              5         0       3   \n",
       "..           ...       ...     ...   \n",
       "886          887         0       2   \n",
       "887          888         1       1   \n",
       "888          889         0       3   \n",
       "889          890         1       1   \n",
       "890          891         0       3   \n",
       "\n",
       "                                                  Name     Sex   Age  SibSp  \\\n",
       "0                              Braund, Mr. Owen Harris    male  22.0      1   \n",
       "1    Cumings, Mrs. John Bradley (Florence Briggs Th...  female  38.0      1   \n",
       "2                               Heikkinen, Miss. Laina  female  26.0      0   \n",
       "3         Futrelle, Mrs. Jacques Heath (Lily May Peel)  female  35.0      1   \n",
       "4                             Allen, Mr. William Henry    male  35.0      0   \n",
       "..                                                 ...     ...   ...    ...   \n",
       "886                              Montvila, Rev. Juozas    male  27.0      0   \n",
       "887                       Graham, Miss. Margaret Edith  female  19.0      0   \n",
       "888           Johnston, Miss. Catherine Helen \"Carrie\"  female   NaN      1   \n",
       "889                              Behr, Mr. Karl Howell    male  26.0      0   \n",
       "890                                Dooley, Mr. Patrick    male  32.0      0   \n",
       "\n",
       "     Parch            Ticket     Fare Cabin Embarked  \n",
       "0        0         A/5 21171   7.2500   NaN        S  \n",
       "1        0          PC 17599  71.2833   C85        C  \n",
       "2        0  STON/O2. 3101282   7.9250   NaN        S  \n",
       "3        0            113803  53.1000  C123        S  \n",
       "4        0            373450   8.0500   NaN        S  \n",
       "..     ...               ...      ...   ...      ...  \n",
       "886      0            211536  13.0000   NaN        S  \n",
       "887      0            112053  30.0000   B42        S  \n",
       "888      2        W./C. 6607  23.4500   NaN        S  \n",
       "889      0            111369  30.0000  C148        C  \n",
       "890      0            370376   7.7500   NaN        Q  \n",
       "\n",
       "[891 rows x 12 columns]"
      ]
     },
     "execution_count": 7,
     "metadata": {},
     "output_type": "execute_result"
    }
   ],
   "source": [
    "FILENAME_DATASET = \"..//assets/data//titanic.csv\"  # Hier den Pfad anpassen\n",
    "raw_data = pd.read_csv(FILENAME_DATASET,sep=\",\")\n",
    "\n",
    "raw_data"
   ]
  },
  {
   "cell_type": "markdown",
   "metadata": {},
   "source": [
    "Erklärung der  getroffenen Predictive Variables : \n",
    "\n",
    "PassengerId: Identifikationsnummer des Passagiers\n",
    "\n",
    "Survived : Zeigt an, ob der Passagier den Untergang überlebt hat oder nicht (0 = Dead 1 = Alive).\n",
    "\n",
    "Pclass\t : Klasse des Passagiers (1 = First class 2 = Second class 3 = Third class) \n",
    "\n",
    "Name ,\tSex\t ,  Age : Bezeichnet jeweils den Namen, das Geschlecht und das Alter des Passagiers.\n",
    "\n",
    "SibSp\t: Number of siblings (Anzahl der Geschwister)\n",
    "\n",
    "Parch\t:  Pergament\n",
    "\n",
    "Ticket\t: Nummer des Tickets wahrscheinlich\n",
    "\n",
    "Fare\t:  Der für das Ticket gezahlte Preis; Typ: Numerisch (Fortlaufend).\n",
    "\n",
    "Cabin\t:  Die Kabinennummer, die dem Passagier zugewiesen wurde; Typ: Text (String).\n",
    "\n",
    "Embarked :  Der Hafen, in dem der Passagier an Bord geht (C = Cherbourg; Q = Queenstown; S = Southampton);Typ: Text (Kategorisch)."
   ]
  },
  {
   "cell_type": "code",
   "execution_count": 8,
   "metadata": {},
   "outputs": [
    {
     "data": {
      "text/plain": [
       "PassengerId      int64\n",
       "Survived         int64\n",
       "Pclass           int64\n",
       "Name            object\n",
       "Sex             object\n",
       "Age            float64\n",
       "SibSp            int64\n",
       "Parch            int64\n",
       "Ticket          object\n",
       "Fare           float64\n",
       "Cabin           object\n",
       "Embarked        object\n",
       "dtype: object"
      ]
     },
     "execution_count": 8,
     "metadata": {},
     "output_type": "execute_result"
    }
   ],
   "source": [
    "# Mit diesem Befehl können Sie den erwarteten Datentyp für jede Spalte anzeigen lassen.\n",
    "raw_data.dtypes  "
   ]
  },
  {
   "cell_type": "markdown",
   "metadata": {},
   "source": [
    "# VORBEREITUNG DER DATEN \n",
    "\n",
    "Hier werden wir konkret die Daten laden, die wir für unsere Analyse für notwendig erachten, d.h. die Variablen, die am ehesten für unsere Studie in Frage kommen. Dann werden wir die Spalten mit fehlenden Daten oder Daten, die nicht der Art der Spalte entsprechen, identifizieren und sie eventuell bereinigen oder im schlimmsten Fall löschen, wenn dies keinen Einfluss auf die Gesamtheit unserer Daten und damit auf die Ergebnisse der Analysen hat."
   ]
  },
  {
   "cell_type": "code",
   "execution_count": 9,
   "metadata": {},
   "outputs": [
    {
     "data": {
      "text/html": [
       "<div>\n",
       "<style scoped>\n",
       "    .dataframe tbody tr th:only-of-type {\n",
       "        vertical-align: middle;\n",
       "    }\n",
       "\n",
       "    .dataframe tbody tr th {\n",
       "        vertical-align: top;\n",
       "    }\n",
       "\n",
       "    .dataframe thead th {\n",
       "        text-align: right;\n",
       "    }\n",
       "</style>\n",
       "<table border=\"1\" class=\"dataframe\">\n",
       "  <thead>\n",
       "    <tr style=\"text-align: right;\">\n",
       "      <th></th>\n",
       "      <th>Survived</th>\n",
       "      <th>Pclass</th>\n",
       "      <th>Sex</th>\n",
       "      <th>Age</th>\n",
       "      <th>Cabin</th>\n",
       "      <th>Embarked</th>\n",
       "    </tr>\n",
       "  </thead>\n",
       "  <tbody>\n",
       "    <tr>\n",
       "      <th>0</th>\n",
       "      <td>0</td>\n",
       "      <td>3</td>\n",
       "      <td>male</td>\n",
       "      <td>22.0</td>\n",
       "      <td>NaN</td>\n",
       "      <td>S</td>\n",
       "    </tr>\n",
       "    <tr>\n",
       "      <th>1</th>\n",
       "      <td>1</td>\n",
       "      <td>1</td>\n",
       "      <td>female</td>\n",
       "      <td>38.0</td>\n",
       "      <td>C85</td>\n",
       "      <td>C</td>\n",
       "    </tr>\n",
       "    <tr>\n",
       "      <th>2</th>\n",
       "      <td>1</td>\n",
       "      <td>3</td>\n",
       "      <td>female</td>\n",
       "      <td>26.0</td>\n",
       "      <td>NaN</td>\n",
       "      <td>S</td>\n",
       "    </tr>\n",
       "    <tr>\n",
       "      <th>3</th>\n",
       "      <td>1</td>\n",
       "      <td>1</td>\n",
       "      <td>female</td>\n",
       "      <td>35.0</td>\n",
       "      <td>C123</td>\n",
       "      <td>S</td>\n",
       "    </tr>\n",
       "    <tr>\n",
       "      <th>4</th>\n",
       "      <td>0</td>\n",
       "      <td>3</td>\n",
       "      <td>male</td>\n",
       "      <td>35.0</td>\n",
       "      <td>NaN</td>\n",
       "      <td>S</td>\n",
       "    </tr>\n",
       "    <tr>\n",
       "      <th>...</th>\n",
       "      <td>...</td>\n",
       "      <td>...</td>\n",
       "      <td>...</td>\n",
       "      <td>...</td>\n",
       "      <td>...</td>\n",
       "      <td>...</td>\n",
       "    </tr>\n",
       "    <tr>\n",
       "      <th>886</th>\n",
       "      <td>0</td>\n",
       "      <td>2</td>\n",
       "      <td>male</td>\n",
       "      <td>27.0</td>\n",
       "      <td>NaN</td>\n",
       "      <td>S</td>\n",
       "    </tr>\n",
       "    <tr>\n",
       "      <th>887</th>\n",
       "      <td>1</td>\n",
       "      <td>1</td>\n",
       "      <td>female</td>\n",
       "      <td>19.0</td>\n",
       "      <td>B42</td>\n",
       "      <td>S</td>\n",
       "    </tr>\n",
       "    <tr>\n",
       "      <th>888</th>\n",
       "      <td>0</td>\n",
       "      <td>3</td>\n",
       "      <td>female</td>\n",
       "      <td>NaN</td>\n",
       "      <td>NaN</td>\n",
       "      <td>S</td>\n",
       "    </tr>\n",
       "    <tr>\n",
       "      <th>889</th>\n",
       "      <td>1</td>\n",
       "      <td>1</td>\n",
       "      <td>male</td>\n",
       "      <td>26.0</td>\n",
       "      <td>C148</td>\n",
       "      <td>C</td>\n",
       "    </tr>\n",
       "    <tr>\n",
       "      <th>890</th>\n",
       "      <td>0</td>\n",
       "      <td>3</td>\n",
       "      <td>male</td>\n",
       "      <td>32.0</td>\n",
       "      <td>NaN</td>\n",
       "      <td>Q</td>\n",
       "    </tr>\n",
       "  </tbody>\n",
       "</table>\n",
       "<p>891 rows × 6 columns</p>\n",
       "</div>"
      ],
      "text/plain": [
       "     Survived  Pclass     Sex   Age Cabin Embarked\n",
       "0           0       3    male  22.0   NaN        S\n",
       "1           1       1  female  38.0   C85        C\n",
       "2           1       3  female  26.0   NaN        S\n",
       "3           1       1  female  35.0  C123        S\n",
       "4           0       3    male  35.0   NaN        S\n",
       "..        ...     ...     ...   ...   ...      ...\n",
       "886         0       2    male  27.0   NaN        S\n",
       "887         1       1  female  19.0   B42        S\n",
       "888         0       3  female   NaN   NaN        S\n",
       "889         1       1    male  26.0  C148        C\n",
       "890         0       3    male  32.0   NaN        Q\n",
       "\n",
       "[891 rows x 6 columns]"
      ]
     },
     "execution_count": 9,
     "metadata": {},
     "output_type": "execute_result"
    }
   ],
   "source": [
    "selected_features= ['Survived', 'Pclass', 'Sex', 'Age', 'Cabin', 'Embarked']\n",
    "\n",
    "data_for_study = raw_data[selected_features]\n",
    "\n",
    "data_for_study"
   ]
  },
  {
   "cell_type": "code",
   "execution_count": 10,
   "metadata": {},
   "outputs": [
    {
     "name": "stdout",
     "output_type": "stream",
     "text": [
      "<class 'pandas.core.frame.DataFrame'>\n",
      "RangeIndex: 891 entries, 0 to 890\n",
      "Data columns (total 6 columns):\n",
      " #   Column    Non-Null Count  Dtype  \n",
      "---  ------    --------------  -----  \n",
      " 0   Survived  891 non-null    int64  \n",
      " 1   Pclass    891 non-null    int64  \n",
      " 2   Sex       891 non-null    object \n",
      " 3   Age       714 non-null    float64\n",
      " 4   Cabin     204 non-null    object \n",
      " 5   Embarked  889 non-null    object \n",
      "dtypes: float64(1), int64(2), object(3)\n",
      "memory usage: 41.9+ KB\n"
     ]
    }
   ],
   "source": [
    "# Dieser Befehl gibt Auskunft über die Art der zu erwartenden Daten, die Anzahl der Spalten und den Platz, den sie in unserem Speicher belegen.\n",
    "data_for_study.info()"
   ]
  },
  {
   "cell_type": "markdown",
   "metadata": {},
   "source": [
    "Zunächst wird uns mitgeteilt, dass unser Datenbestand 891 Zeilen und 6 Spalten umfasst. Wir werden dies mit einer Kontrollschleife überprüfen."
   ]
  },
  {
   "cell_type": "code",
   "execution_count": 11,
   "metadata": {},
   "outputs": [
    {
     "name": "stdout",
     "output_type": "stream",
     "text": [
      " Das Dataset hat tatsächlich  891 Zeile und   6 Spalte. Die Abmessungen sind korrekt.\n"
     ]
    }
   ],
   "source": [
    "\"\"\"\n",
    "Sei: \n",
    " n_spalte: die Anzahl der Spalten\n",
    " n_Zeilen: die Anzahl der Zeilen\n",
    "\n",
    "Wenn die Gesamtzahl der Zeilen tatsächlich 891 und die Anzahl der Spalten 6 beträgt, wird eine Bestätigungsmeldung angezeigt. \n",
    "Andernfalls erhalten wir eine Fehlermeldung. \n",
    "\n",
    "All dies stellt sicher, dass es kein Datenleck gibt.\n",
    " \n",
    "\"\"\"\n",
    "\n",
    "n_colonne = data_for_study.shape[1]\n",
    "n_lignes= data_for_study.shape[0]\n",
    "if n_lignes == 891 and n_colonne == 6:\n",
    "    print(\n",
    "        f\" Das Dataset hat tatsächlich  {n_lignes} Zeile und   {n_colonne} Spalte. Die Abmessungen sind korrekt.\")\n",
    "else:\n",
    "    print(\"Fehler!!! Das Dataset hat nicht die erwarteten Abmessungen.\")"
   ]
  },
  {
   "cell_type": "markdown",
   "metadata": {},
   "source": [
    "# ÜBERPRÜFUNG , BEREINIGUNG UND IMPUTATION DER DATEN \n",
    "\n",
    "\n",
    " Die Untersuchung, Bereinigung und Anrechnung von Daten sind wichtige Schritte, da sie die Qualität, Konsistenz und Vollständigkeit der Daten gewährleisten. Dadurch werden genauere und zuverlässigere Analyseergebnisse gewährleistet."
   ]
  },
  {
   "cell_type": "code",
   "execution_count": 12,
   "metadata": {},
   "outputs": [
    {
     "name": "stdout",
     "output_type": "stream",
     "text": [
      "Survived      0\n",
      "Pclass        0\n",
      "Sex           0\n",
      "Age         177\n",
      "Cabin       687\n",
      "Embarked      2\n",
      "dtype: int64\n"
     ]
    },
    {
     "data": {
      "text/plain": [
       "Survived      int64\n",
       "Pclass        int64\n",
       "Sex          object\n",
       "Age         float64\n",
       "Cabin        object\n",
       "Embarked     object\n",
       "dtype: object"
      ]
     },
     "execution_count": 12,
     "metadata": {},
     "output_type": "execute_result"
    }
   ],
   "source": [
    "# Wir wollen nun herausfinden, wie viele Werte in jeder Spalte fehlen und welche Typen sie haben. Dazu führen wir den folgenden Befehl aus:\n",
    "\n",
    "# df.isna().sum() : Liefert die Anzahl der fehlenden Werte für jede Spalte.\n",
    "\n",
    "print(data_for_study.isna().sum())          \n",
    "\n",
    "\n",
    "missing_values = data_for_study.isnull().sum()\n",
    "\n",
    "data_for_study.dtypes"
   ]
  },
  {
   "cell_type": "markdown",
   "metadata": {},
   "source": [
    "Wir sehen, dass die meisten Spalten keine fehlenden Werte enthalten, mit Ausnahme der Variablen „Alter“, die 9% der Daten ausmacht, der Variablen „Kabine“, die 36% der Daten ausmacht und der Variablen Embarked , die 0.2% der Daten ausmacht. \n",
    "\n",
    "Da es bei der Variable „Kabine“ eine große Menge an fehlenden Werten gibt, werden wir sie einfach vollständig entfernen und bei den Altersdaten werden wir alle fehlenden Altersdaten durch das Durchschnittsalter ersetzen.\n",
    "\n",
    "Angesicht der Tatsache ,dass es sehr geringe fehlende Werte bei Embarked gibt, werden wir einfach die zu zwei Zeile löschen, ohne gefahr , dass das Dataset beeinflusst  wird\n",
    "\n",
    "Was den Datentyp betrifft, so scheint alles korrekt zu sein, mit Ausnahme des Alters, das vom Typ float ist. Da es kein universelles Dezimalalter gibt, ersetzen wir auch den Datentyp der Altersvariablen durch den Datentyp 'Ganzzahl', so dass sie zu Ganzzahlen werden."
   ]
  },
  {
   "cell_type": "code",
   "execution_count": 13,
   "metadata": {},
   "outputs": [],
   "source": [
    "data_for_study = data_for_study.drop('Cabin', axis=1)"
   ]
  },
  {
   "cell_type": "code",
   "execution_count": 14,
   "metadata": {},
   "outputs": [],
   "source": [
    "data_for_study.dropna(subset=['Embarked'], inplace=True)"
   ]
  },
  {
   "cell_type": "code",
   "execution_count": 15,
   "metadata": {},
   "outputs": [],
   "source": [
    "# Berechnen Sie das Medianalter\n",
    "median_age = data_for_study['Age'].median()\n",
    "\n",
    "# Ersetzen der fehlenden Werte durch das Medianalter und Umwandlung in Integer mithilfe der Funktion: „.astype“.\n",
    "data_for_study['Age'] = data_for_study['Age'].fillna(median_age).astype(int)"
   ]
  },
  {
   "cell_type": "code",
   "execution_count": 16,
   "metadata": {},
   "outputs": [
    {
     "data": {
      "text/html": [
       "<div>\n",
       "<style scoped>\n",
       "    .dataframe tbody tr th:only-of-type {\n",
       "        vertical-align: middle;\n",
       "    }\n",
       "\n",
       "    .dataframe tbody tr th {\n",
       "        vertical-align: top;\n",
       "    }\n",
       "\n",
       "    .dataframe thead th {\n",
       "        text-align: right;\n",
       "    }\n",
       "</style>\n",
       "<table border=\"1\" class=\"dataframe\">\n",
       "  <thead>\n",
       "    <tr style=\"text-align: right;\">\n",
       "      <th></th>\n",
       "      <th>Survived</th>\n",
       "      <th>Pclass</th>\n",
       "      <th>Sex</th>\n",
       "      <th>Age</th>\n",
       "      <th>Embarked</th>\n",
       "    </tr>\n",
       "  </thead>\n",
       "  <tbody>\n",
       "    <tr>\n",
       "      <th>0</th>\n",
       "      <td>0</td>\n",
       "      <td>3</td>\n",
       "      <td>male</td>\n",
       "      <td>22</td>\n",
       "      <td>S</td>\n",
       "    </tr>\n",
       "    <tr>\n",
       "      <th>1</th>\n",
       "      <td>1</td>\n",
       "      <td>1</td>\n",
       "      <td>female</td>\n",
       "      <td>38</td>\n",
       "      <td>C</td>\n",
       "    </tr>\n",
       "    <tr>\n",
       "      <th>2</th>\n",
       "      <td>1</td>\n",
       "      <td>3</td>\n",
       "      <td>female</td>\n",
       "      <td>26</td>\n",
       "      <td>S</td>\n",
       "    </tr>\n",
       "    <tr>\n",
       "      <th>3</th>\n",
       "      <td>1</td>\n",
       "      <td>1</td>\n",
       "      <td>female</td>\n",
       "      <td>35</td>\n",
       "      <td>S</td>\n",
       "    </tr>\n",
       "    <tr>\n",
       "      <th>4</th>\n",
       "      <td>0</td>\n",
       "      <td>3</td>\n",
       "      <td>male</td>\n",
       "      <td>35</td>\n",
       "      <td>S</td>\n",
       "    </tr>\n",
       "    <tr>\n",
       "      <th>...</th>\n",
       "      <td>...</td>\n",
       "      <td>...</td>\n",
       "      <td>...</td>\n",
       "      <td>...</td>\n",
       "      <td>...</td>\n",
       "    </tr>\n",
       "    <tr>\n",
       "      <th>886</th>\n",
       "      <td>0</td>\n",
       "      <td>2</td>\n",
       "      <td>male</td>\n",
       "      <td>27</td>\n",
       "      <td>S</td>\n",
       "    </tr>\n",
       "    <tr>\n",
       "      <th>887</th>\n",
       "      <td>1</td>\n",
       "      <td>1</td>\n",
       "      <td>female</td>\n",
       "      <td>19</td>\n",
       "      <td>S</td>\n",
       "    </tr>\n",
       "    <tr>\n",
       "      <th>888</th>\n",
       "      <td>0</td>\n",
       "      <td>3</td>\n",
       "      <td>female</td>\n",
       "      <td>28</td>\n",
       "      <td>S</td>\n",
       "    </tr>\n",
       "    <tr>\n",
       "      <th>889</th>\n",
       "      <td>1</td>\n",
       "      <td>1</td>\n",
       "      <td>male</td>\n",
       "      <td>26</td>\n",
       "      <td>C</td>\n",
       "    </tr>\n",
       "    <tr>\n",
       "      <th>890</th>\n",
       "      <td>0</td>\n",
       "      <td>3</td>\n",
       "      <td>male</td>\n",
       "      <td>32</td>\n",
       "      <td>Q</td>\n",
       "    </tr>\n",
       "  </tbody>\n",
       "</table>\n",
       "<p>889 rows × 5 columns</p>\n",
       "</div>"
      ],
      "text/plain": [
       "     Survived  Pclass     Sex  Age Embarked\n",
       "0           0       3    male   22        S\n",
       "1           1       1  female   38        C\n",
       "2           1       3  female   26        S\n",
       "3           1       1  female   35        S\n",
       "4           0       3    male   35        S\n",
       "..        ...     ...     ...  ...      ...\n",
       "886         0       2    male   27        S\n",
       "887         1       1  female   19        S\n",
       "888         0       3  female   28        S\n",
       "889         1       1    male   26        C\n",
       "890         0       3    male   32        Q\n",
       "\n",
       "[889 rows x 5 columns]"
      ]
     },
     "execution_count": 16,
     "metadata": {},
     "output_type": "execute_result"
    }
   ],
   "source": [
    "data_for_study"
   ]
  },
  {
   "cell_type": "code",
   "execution_count": 17,
   "metadata": {},
   "outputs": [
    {
     "name": "stdout",
     "output_type": "stream",
     "text": [
      "Survived    0\n",
      "Pclass      0\n",
      "Sex         0\n",
      "Age         0\n",
      "Embarked    0\n",
      "dtype: int64\n"
     ]
    },
    {
     "data": {
      "text/plain": [
       "Survived     int64\n",
       "Pclass       int64\n",
       "Sex         object\n",
       "Age          int32\n",
       "Embarked    object\n",
       "dtype: object"
      ]
     },
     "execution_count": 17,
     "metadata": {},
     "output_type": "execute_result"
    }
   ],
   "source": [
    "print(data_for_study.isna().sum())          \n",
    "\n",
    "\n",
    "valeurs_manquantes = data_for_study.isnull().sum()\n",
    "\n",
    "data_for_study.dtypes"
   ]
  },
  {
   "cell_type": "markdown",
   "metadata": {},
   "source": [
    "Zu diesem Zeitpunkt scheint alles in Ordnung zu sein, was die fehlenden Werte betrifft!\n",
    "\n",
    "Versuchen wir nun zu überprüfen, ob der Datensatz Nullwerte oder negative Werte enthält. Wir werden dies nur mit numerischen Variablen tun, mit Ausnahme der Variable „Survived“, da sie Nullwerte enthält, die aber eher bedeuten, ob der Passagier gestorben ist oder nicht."
   ]
  },
  {
   "cell_type": "code",
   "execution_count": 18,
   "metadata": {},
   "outputs": [
    {
     "name": "stdout",
     "output_type": "stream",
     "text": [
      "Ungültige Werte für 'Age':\n",
      "78     0\n",
      "305    0\n",
      "469    0\n",
      "644    0\n",
      "755    0\n",
      "803    0\n",
      "831    0\n",
      "Name: Age, dtype: int32\n"
     ]
    }
   ],
   "source": [
    "is_Negative_values = data_for_study[(data_for_study['Age'].isnull()) | (~data_for_study['Age'].between(1, 700))]['Age']\n",
    "\n",
    "# Ausgabe der ungültigen Werte für 'Age'\n",
    "print(\"Ungültige Werte für 'Age':\")\n",
    "print(is_Negative_values)"
   ]
  },
  {
   "cell_type": "markdown",
   "metadata": {},
   "source": [
    "Die Variable Alter zeigt an, dass in den Zeilen 78, 305, 469, 644, 755, 803, 831  Werte fehlen.\n",
    "\n",
    "Diese Werte werden ebenfalls durch das Durchschnittsalter der Bevölkerung ersetzt, und um die Datenqualität zu erhalten, werden diese Werte direkt in einen ganzzahligen Datentyp umgewandelt."
   ]
  },
  {
   "cell_type": "code",
   "execution_count": 19,
   "metadata": {},
   "outputs": [
    {
     "name": "stdout",
     "output_type": "stream",
     "text": [
      "Mean Age (excluding zeros): 29\n"
     ]
    }
   ],
   "source": [
    "# Berechnen Sie das Durchschnittsalter, indem Sie Nullen ausschließen und auf die nächste ganze Zahl runden.\n",
    "mean_age = int(data_for_study[data_for_study['Age'] != 0]['Age'].mean())\n",
    "print(f\"Mean Age (excluding zeros): {mean_age}\")\n",
    "\n",
    "#  Ersetzen Sie die Nullen durch das Durchschnittsalter\n",
    "data_for_study['Age'] = data_for_study['Age'].replace(0, mean_age)\n",
    "\n",
    "# Die Spalte 'Alter' in eine ganze Zahl umwandeln (falls sie es nicht schon ist)\n",
    "data_for_study['Age'] = data_for_study['Age'].astype(int)"
   ]
  },
  {
   "cell_type": "markdown",
   "metadata": {},
   "source": [
    "überprüfen wir noch einmal, ob es negative Werte oder Null für diese Variable gibt"
   ]
  },
  {
   "cell_type": "code",
   "execution_count": 20,
   "metadata": {},
   "outputs": [
    {
     "name": "stdout",
     "output_type": "stream",
     "text": [
      "Ungültige Werte für 'Age':\n",
      "Series([], Name: Age, dtype: int32)\n"
     ]
    }
   ],
   "source": [
    "is_Negative_values = data_for_study[(data_for_study['Age'].isnull()) | (~data_for_study['Age'].between(1, 700))]['Age']\n",
    "\n",
    "# Ausgabe der ungültigen Werte für 'Age'\n",
    "print(\"Ungültige Werte für 'Age':\")\n",
    "print(is_Negative_values)"
   ]
  },
  {
   "cell_type": "markdown",
   "metadata": {},
   "source": [
    "Das Ergebnis zeigt, dass diese Variable derzeit von guter Qualität und bereit für den nächsten Schritt ist."
   ]
  },
  {
   "cell_type": "code",
   "execution_count": 21,
   "metadata": {},
   "outputs": [
    {
     "name": "stdout",
     "output_type": "stream",
     "text": [
      "Ungültige Werte für 'Pclass':\n",
      "(Series([], Name: Pclass, dtype: int64),)\n"
     ]
    }
   ],
   "source": [
    "is_Negative_values = data_for_study[(data_for_study['Pclass'].isnull()) | (~data_for_study['Pclass'].between(1, 700))]['Pclass'], \n",
    "\n",
    "# Ausgabe der ungültigen Werte für 'Pclass'\n",
    "print(\"Ungültige Werte für 'Pclass':\")\n",
    "print(is_Negative_values)"
   ]
  },
  {
   "cell_type": "markdown",
   "metadata": {},
   "source": [
    "Das Ergebnis zeigt, dass auch diese Variable von guter Qualität und bereit für den nächsten Schritt ist."
   ]
  },
  {
   "cell_type": "markdown",
   "metadata": {},
   "source": [
    "Nachdem alle Daten in unserem Dataset bereinigt wurden, können wir zum nächsten Schritt übergehen, nämlich der Auswertung und Analyse der Daten."
   ]
  },
  {
   "cell_type": "markdown",
   "metadata": {},
   "source": [
    "# ANALYSE UND ERFORSCHUNG VON DATEN"
   ]
  },
  {
   "cell_type": "code",
   "execution_count": 22,
   "metadata": {},
   "outputs": [
    {
     "data": {
      "text/html": [
       "<div>\n",
       "<style scoped>\n",
       "    .dataframe tbody tr th:only-of-type {\n",
       "        vertical-align: middle;\n",
       "    }\n",
       "\n",
       "    .dataframe tbody tr th {\n",
       "        vertical-align: top;\n",
       "    }\n",
       "\n",
       "    .dataframe thead th {\n",
       "        text-align: right;\n",
       "    }\n",
       "</style>\n",
       "<table border=\"1\" class=\"dataframe\">\n",
       "  <thead>\n",
       "    <tr style=\"text-align: right;\">\n",
       "      <th></th>\n",
       "      <th>Survived</th>\n",
       "      <th>Pclass</th>\n",
       "      <th>Sex</th>\n",
       "      <th>Age</th>\n",
       "      <th>Embarked</th>\n",
       "    </tr>\n",
       "  </thead>\n",
       "  <tbody>\n",
       "    <tr>\n",
       "      <th>0</th>\n",
       "      <td>0</td>\n",
       "      <td>3</td>\n",
       "      <td>male</td>\n",
       "      <td>22</td>\n",
       "      <td>S</td>\n",
       "    </tr>\n",
       "    <tr>\n",
       "      <th>1</th>\n",
       "      <td>1</td>\n",
       "      <td>1</td>\n",
       "      <td>female</td>\n",
       "      <td>38</td>\n",
       "      <td>C</td>\n",
       "    </tr>\n",
       "    <tr>\n",
       "      <th>2</th>\n",
       "      <td>1</td>\n",
       "      <td>3</td>\n",
       "      <td>female</td>\n",
       "      <td>26</td>\n",
       "      <td>S</td>\n",
       "    </tr>\n",
       "    <tr>\n",
       "      <th>3</th>\n",
       "      <td>1</td>\n",
       "      <td>1</td>\n",
       "      <td>female</td>\n",
       "      <td>35</td>\n",
       "      <td>S</td>\n",
       "    </tr>\n",
       "    <tr>\n",
       "      <th>4</th>\n",
       "      <td>0</td>\n",
       "      <td>3</td>\n",
       "      <td>male</td>\n",
       "      <td>35</td>\n",
       "      <td>S</td>\n",
       "    </tr>\n",
       "    <tr>\n",
       "      <th>...</th>\n",
       "      <td>...</td>\n",
       "      <td>...</td>\n",
       "      <td>...</td>\n",
       "      <td>...</td>\n",
       "      <td>...</td>\n",
       "    </tr>\n",
       "    <tr>\n",
       "      <th>886</th>\n",
       "      <td>0</td>\n",
       "      <td>2</td>\n",
       "      <td>male</td>\n",
       "      <td>27</td>\n",
       "      <td>S</td>\n",
       "    </tr>\n",
       "    <tr>\n",
       "      <th>887</th>\n",
       "      <td>1</td>\n",
       "      <td>1</td>\n",
       "      <td>female</td>\n",
       "      <td>19</td>\n",
       "      <td>S</td>\n",
       "    </tr>\n",
       "    <tr>\n",
       "      <th>888</th>\n",
       "      <td>0</td>\n",
       "      <td>3</td>\n",
       "      <td>female</td>\n",
       "      <td>28</td>\n",
       "      <td>S</td>\n",
       "    </tr>\n",
       "    <tr>\n",
       "      <th>889</th>\n",
       "      <td>1</td>\n",
       "      <td>1</td>\n",
       "      <td>male</td>\n",
       "      <td>26</td>\n",
       "      <td>C</td>\n",
       "    </tr>\n",
       "    <tr>\n",
       "      <th>890</th>\n",
       "      <td>0</td>\n",
       "      <td>3</td>\n",
       "      <td>male</td>\n",
       "      <td>32</td>\n",
       "      <td>Q</td>\n",
       "    </tr>\n",
       "  </tbody>\n",
       "</table>\n",
       "<p>889 rows × 5 columns</p>\n",
       "</div>"
      ],
      "text/plain": [
       "     Survived  Pclass     Sex  Age Embarked\n",
       "0           0       3    male   22        S\n",
       "1           1       1  female   38        C\n",
       "2           1       3  female   26        S\n",
       "3           1       1  female   35        S\n",
       "4           0       3    male   35        S\n",
       "..        ...     ...     ...  ...      ...\n",
       "886         0       2    male   27        S\n",
       "887         1       1  female   19        S\n",
       "888         0       3  female   28        S\n",
       "889         1       1    male   26        C\n",
       "890         0       3    male   32        Q\n",
       "\n",
       "[889 rows x 5 columns]"
      ]
     },
     "execution_count": 22,
     "metadata": {},
     "output_type": "execute_result"
    }
   ],
   "source": [
    "data_for_study"
   ]
  },
  {
   "cell_type": "markdown",
   "metadata": {},
   "source": [
    "Bevor wir mit der Erforschung und Analyse der Daten beginnen, ist es wichtig, unsere Zielvariable zu identifizieren. \n",
    "Dabei handelt es sich um die Kernvariable unserer Studie.\n",
    "\n",
    "Was uns in unserer Studie interessiert, sind die Faktoren, die zum Tod oder zum Überleben der Reisenden beim Schiffbruch beigetragen haben / beitragen könnten (beigetragen haben). \n",
    "\n",
    "Aus diesem Grund wird unsere Leitvariable Survived sein. Alle anderen Variablen werden automatisch prädiktiv, d. h. sie könnten in irgendeiner Weise zum Tod oder Überleben der Passagiere beigetragen haben.\n",
    "\n",
    "Wir können sogar Hypothesen aufstellen, z. B. : \n",
    "\n",
    "- (Hypothese 1) : In der Passagierklasse 1 gibt es mehr Tote oder Überlebende als in den beiden anderen Klassen. Ebenso verzeichnet die Passagierklasse 2 mehr Tote oder Überlebende als die Klassen 1 und 3. Dasselbe gilt für Klasse 3.\n",
    "\n",
    "- (Hypothese 2): Tod oder Überleben hängt vom Geschlecht ab.\n",
    "\n",
    "- (Hypothese 3): Tod oder Überleben hängt vom Alter ab.\n",
    "\n",
    "- (Hypothese 4) : Die Wege, die das Schiff nimmt, sind ebenfalls eine Ursache für den Untergang und damit für den Tod."
   ]
  },
  {
   "cell_type": "markdown",
   "metadata": {},
   "source": [
    "## DESKRIPTIVE STATISTIK"
   ]
  },
  {
   "cell_type": "code",
   "execution_count": 23,
   "metadata": {},
   "outputs": [
    {
     "data": {
      "text/html": [
       "<div>\n",
       "<style scoped>\n",
       "    .dataframe tbody tr th:only-of-type {\n",
       "        vertical-align: middle;\n",
       "    }\n",
       "\n",
       "    .dataframe tbody tr th {\n",
       "        vertical-align: top;\n",
       "    }\n",
       "\n",
       "    .dataframe thead th {\n",
       "        text-align: right;\n",
       "    }\n",
       "</style>\n",
       "<table border=\"1\" class=\"dataframe\">\n",
       "  <thead>\n",
       "    <tr style=\"text-align: right;\">\n",
       "      <th></th>\n",
       "      <th>Survived</th>\n",
       "      <th>Pclass</th>\n",
       "      <th>Sex</th>\n",
       "      <th>Age</th>\n",
       "      <th>Embarked</th>\n",
       "    </tr>\n",
       "  </thead>\n",
       "  <tbody>\n",
       "    <tr>\n",
       "      <th>count</th>\n",
       "      <td>889.00</td>\n",
       "      <td>889.00</td>\n",
       "      <td>889</td>\n",
       "      <td>889.00</td>\n",
       "      <td>889</td>\n",
       "    </tr>\n",
       "    <tr>\n",
       "      <th>unique</th>\n",
       "      <td>NaN</td>\n",
       "      <td>NaN</td>\n",
       "      <td>2</td>\n",
       "      <td>NaN</td>\n",
       "      <td>3</td>\n",
       "    </tr>\n",
       "    <tr>\n",
       "      <th>top</th>\n",
       "      <td>NaN</td>\n",
       "      <td>NaN</td>\n",
       "      <td>male</td>\n",
       "      <td>NaN</td>\n",
       "      <td>S</td>\n",
       "    </tr>\n",
       "    <tr>\n",
       "      <th>freq</th>\n",
       "      <td>NaN</td>\n",
       "      <td>NaN</td>\n",
       "      <td>577</td>\n",
       "      <td>NaN</td>\n",
       "      <td>644</td>\n",
       "    </tr>\n",
       "    <tr>\n",
       "      <th>mean</th>\n",
       "      <td>0.38</td>\n",
       "      <td>2.31</td>\n",
       "      <td>NaN</td>\n",
       "      <td>29.53</td>\n",
       "      <td>NaN</td>\n",
       "    </tr>\n",
       "    <tr>\n",
       "      <th>std</th>\n",
       "      <td>0.49</td>\n",
       "      <td>0.83</td>\n",
       "      <td>NaN</td>\n",
       "      <td>12.73</td>\n",
       "      <td>NaN</td>\n",
       "    </tr>\n",
       "    <tr>\n",
       "      <th>min</th>\n",
       "      <td>0.00</td>\n",
       "      <td>1.00</td>\n",
       "      <td>NaN</td>\n",
       "      <td>1.00</td>\n",
       "      <td>NaN</td>\n",
       "    </tr>\n",
       "    <tr>\n",
       "      <th>25%</th>\n",
       "      <td>0.00</td>\n",
       "      <td>2.00</td>\n",
       "      <td>NaN</td>\n",
       "      <td>22.00</td>\n",
       "      <td>NaN</td>\n",
       "    </tr>\n",
       "    <tr>\n",
       "      <th>50%</th>\n",
       "      <td>0.00</td>\n",
       "      <td>3.00</td>\n",
       "      <td>NaN</td>\n",
       "      <td>28.00</td>\n",
       "      <td>NaN</td>\n",
       "    </tr>\n",
       "    <tr>\n",
       "      <th>75%</th>\n",
       "      <td>1.00</td>\n",
       "      <td>3.00</td>\n",
       "      <td>NaN</td>\n",
       "      <td>35.00</td>\n",
       "      <td>NaN</td>\n",
       "    </tr>\n",
       "    <tr>\n",
       "      <th>max</th>\n",
       "      <td>1.00</td>\n",
       "      <td>3.00</td>\n",
       "      <td>NaN</td>\n",
       "      <td>80.00</td>\n",
       "      <td>NaN</td>\n",
       "    </tr>\n",
       "  </tbody>\n",
       "</table>\n",
       "</div>"
      ],
      "text/plain": [
       "        Survived  Pclass   Sex     Age Embarked\n",
       "count     889.00  889.00   889  889.00      889\n",
       "unique       NaN     NaN     2     NaN        3\n",
       "top          NaN     NaN  male     NaN        S\n",
       "freq         NaN     NaN   577     NaN      644\n",
       "mean        0.38    2.31   NaN   29.53      NaN\n",
       "std         0.49    0.83   NaN   12.73      NaN\n",
       "min         0.00    1.00   NaN    1.00      NaN\n",
       "25%         0.00    2.00   NaN   22.00      NaN\n",
       "50%         0.00    3.00   NaN   28.00      NaN\n",
       "75%         1.00    3.00   NaN   35.00      NaN\n",
       "max         1.00    3.00   NaN   80.00      NaN"
      ]
     },
     "execution_count": 23,
     "metadata": {},
     "output_type": "execute_result"
    }
   ],
   "source": [
    "# Berechnung der deskriptiven Statistik aller Variablen\n",
    "data_for_study.describe(include=\"all\").round(2)"
   ]
  },
  {
   "cell_type": "markdown",
   "metadata": {},
   "source": [
    "Die Variablen „Sex“ und „Embarked“ weisen auf den ersten Blick keine beschreibende Statistik (NaN) auf, was völlig normal ist, da beide Variablen Daten enthalten, die vom Typ „Object“ sind; in anderen Programmiersprachen würde man sagen, vom Typ „String“.\n",
    "\n",
    "Trotzdem können wir daraus interessante Informationen ziehen. \n",
    "\n",
    "--------------------------------------------------------------------------------------------------------------------------------------------\n",
    "Was die Variable „Sex“ betrifft, so zeigen die deskriptiven Statistiken, dass an diesem Tag mehr Männer als Frauen auf dem Schiff anwesend waren. Genauer gesagt waren 577 Männer auf dem Boot anwesend.\n",
    "\n",
    "--------------------------------------------------------------------------------------------------------------------------------------------\n",
    "In Bezug auf die Variable „Embarked“ geht aus den beschreibenden Statistiken hervor, dass die meisten Passagiere aus der Stadt „Southampton“ kamen, die angesichts der Bevölkerungszahl von 644 Personen, die dort an Bord gegangen waren, wahrscheinlich der Ort der Einschiffung war. \n",
    "\n",
    "--------------------------------------------------------------------------------------------------------------------------------------------\n",
    "In Bezug auf die Variable „Survived“ wurden 889 Passagiere registriert. Die beschreibenden Statistiken zeigen, dass bei 25% der Passagiere oder weniger keine Überlebende des Schiffbruchs registriert wurde. Bei 50% der Passagiere oder weniger wurde ebenfalls keine Überlebende des Schiffbruchs registriert. \n",
    "Nur bei 75% oder weniger der Passagiere werden Überlebende registriert.  Das heißt, mehr als die Hälfte der Passagiere sind tot.\n",
    "\n",
    "--------------------------------------------------------------------------------------------------------------------------------------------\n",
    "\n",
    "Für die Variable „Age“ wurden 889 Altersangaben erfasst. Das Durchschnittsalter der Passagiere betrug 29 Jahre. Die deskriptiven Statistiken zeigen, dass der am wenigsten alte Passagier (Mindestalter) 1 Jahr und der älteste Passagier (Höchstalter) 80 Jahre alt ist. 25% der Passagiere waren 22 Jahre alt oder jünger, 50% der Passagiere waren 28 Jahre alt oder jünger und 75% der Passagiere waren 35 Jahre alt oder jünger. Die Bevölkerung war eher jung.\n",
    "\n",
    "--------------------------------------------------------------------------------------------------------------------------------------------\n",
    "\n",
    "In Bezug auf die Variable „Pclass“ (Passager_class) ergab die beschreibende Statistik, dass die Mittelklasse die Klasse Nummer 2 war.  Außerdem werden wir nicht von Min- und Max-Klassen sprechen, da es nur drei gab. Außerdem wurde für 25% der Passagiere die Klasse 2 registriert. Für 50 bis 75% der Bevölkerung wurde die Klasse 3 gebucht."
   ]
  },
  {
   "cell_type": "markdown",
   "metadata": {},
   "source": [
    "## EXPLORATION UND VISUALIESIERUNG"
   ]
  },
  {
   "cell_type": "markdown",
   "metadata": {},
   "source": [
    "### EXPLORATION\n",
    " \n",
    "\n",
    "hier geht es darum, in die Tiefe unserer Studie zu gehen"
   ]
  },
  {
   "cell_type": "markdown",
   "metadata": {},
   "source": [
    "**Survived**"
   ]
  },
  {
   "cell_type": "code",
   "execution_count": 24,
   "metadata": {},
   "outputs": [
    {
     "data": {
      "text/html": [
       "<div>\n",
       "<style scoped>\n",
       "    .dataframe tbody tr th:only-of-type {\n",
       "        vertical-align: middle;\n",
       "    }\n",
       "\n",
       "    .dataframe tbody tr th {\n",
       "        vertical-align: top;\n",
       "    }\n",
       "\n",
       "    .dataframe thead th {\n",
       "        text-align: right;\n",
       "    }\n",
       "</style>\n",
       "<table border=\"1\" class=\"dataframe\">\n",
       "  <thead>\n",
       "    <tr style=\"text-align: right;\">\n",
       "      <th></th>\n",
       "      <th>count</th>\n",
       "      <th>mean</th>\n",
       "      <th>median</th>\n",
       "      <th>std</th>\n",
       "    </tr>\n",
       "    <tr>\n",
       "      <th>Survived</th>\n",
       "      <th></th>\n",
       "      <th></th>\n",
       "      <th></th>\n",
       "      <th></th>\n",
       "    </tr>\n",
       "  </thead>\n",
       "  <tbody>\n",
       "    <tr>\n",
       "      <th>0</th>\n",
       "      <td>549</td>\n",
       "      <td>0.0</td>\n",
       "      <td>0.0</td>\n",
       "      <td>0.0</td>\n",
       "    </tr>\n",
       "    <tr>\n",
       "      <th>1</th>\n",
       "      <td>340</td>\n",
       "      <td>1.0</td>\n",
       "      <td>1.0</td>\n",
       "      <td>0.0</td>\n",
       "    </tr>\n",
       "  </tbody>\n",
       "</table>\n",
       "</div>"
      ],
      "text/plain": [
       "          count  mean  median  std\n",
       "Survived                          \n",
       "0           549   0.0     0.0  0.0\n",
       "1           340   1.0     1.0  0.0"
      ]
     },
     "execution_count": 24,
     "metadata": {},
     "output_type": "execute_result"
    }
   ],
   "source": [
    "# Wir können auch zusätzliche Statistiken berechnen.\n",
    "data_for_study.groupby(\"Survived\", observed=True, dropna=False)[\n",
    "    \"Survived\"].agg([\"count\", \"mean\", \"median\", \"std\"])"
   ]
  },
  {
   "cell_type": "markdown",
   "metadata": {},
   "source": [
    "Von 889 Reisenden verzeichnen wir genau 549 Verstorbene bei 340 Überlebenden"
   ]
  },
  {
   "cell_type": "markdown",
   "metadata": {},
   "source": [
    "**Pclass**"
   ]
  },
  {
   "cell_type": "code",
   "execution_count": 25,
   "metadata": {},
   "outputs": [
    {
     "data": {
      "text/html": [
       "<div>\n",
       "<style scoped>\n",
       "    .dataframe tbody tr th:only-of-type {\n",
       "        vertical-align: middle;\n",
       "    }\n",
       "\n",
       "    .dataframe tbody tr th {\n",
       "        vertical-align: top;\n",
       "    }\n",
       "\n",
       "    .dataframe thead th {\n",
       "        text-align: right;\n",
       "    }\n",
       "</style>\n",
       "<table border=\"1\" class=\"dataframe\">\n",
       "  <thead>\n",
       "    <tr style=\"text-align: right;\">\n",
       "      <th></th>\n",
       "      <th>count</th>\n",
       "      <th>mean</th>\n",
       "      <th>median</th>\n",
       "      <th>std</th>\n",
       "    </tr>\n",
       "    <tr>\n",
       "      <th>Pclass</th>\n",
       "      <th></th>\n",
       "      <th></th>\n",
       "      <th></th>\n",
       "      <th></th>\n",
       "    </tr>\n",
       "  </thead>\n",
       "  <tbody>\n",
       "    <tr>\n",
       "      <th>1</th>\n",
       "      <td>214</td>\n",
       "      <td>1.0</td>\n",
       "      <td>1.0</td>\n",
       "      <td>0.0</td>\n",
       "    </tr>\n",
       "    <tr>\n",
       "      <th>2</th>\n",
       "      <td>184</td>\n",
       "      <td>2.0</td>\n",
       "      <td>2.0</td>\n",
       "      <td>0.0</td>\n",
       "    </tr>\n",
       "    <tr>\n",
       "      <th>3</th>\n",
       "      <td>491</td>\n",
       "      <td>3.0</td>\n",
       "      <td>3.0</td>\n",
       "      <td>0.0</td>\n",
       "    </tr>\n",
       "  </tbody>\n",
       "</table>\n",
       "</div>"
      ],
      "text/plain": [
       "        count  mean  median  std\n",
       "Pclass                          \n",
       "1         214   1.0     1.0  0.0\n",
       "2         184   2.0     2.0  0.0\n",
       "3         491   3.0     3.0  0.0"
      ]
     },
     "execution_count": 25,
     "metadata": {},
     "output_type": "execute_result"
    }
   ],
   "source": [
    "data_for_study.groupby(\"Pclass\", observed=True, dropna=False)[\n",
    "    \"Pclass\"].agg([\"count\", \"mean\", \"median\", \"std\"])"
   ]
  },
  {
   "cell_type": "markdown",
   "metadata": {},
   "source": [
    "Es gab genau 214 Passagiere, die die Klasse 1 buchten, während 184 Passagiere die Klasse 2 buchten und 491 Passagiere die Klasse 3 buchten."
   ]
  },
  {
   "cell_type": "markdown",
   "metadata": {},
   "source": [
    "**Sex**"
   ]
  },
  {
   "cell_type": "code",
   "execution_count": 26,
   "metadata": {},
   "outputs": [
    {
     "data": {
      "text/html": [
       "<div>\n",
       "<style scoped>\n",
       "    .dataframe tbody tr th:only-of-type {\n",
       "        vertical-align: middle;\n",
       "    }\n",
       "\n",
       "    .dataframe tbody tr th {\n",
       "        vertical-align: top;\n",
       "    }\n",
       "\n",
       "    .dataframe thead th {\n",
       "        text-align: right;\n",
       "    }\n",
       "</style>\n",
       "<table border=\"1\" class=\"dataframe\">\n",
       "  <thead>\n",
       "    <tr style=\"text-align: right;\">\n",
       "      <th></th>\n",
       "      <th>count</th>\n",
       "      <th>mean</th>\n",
       "      <th>median</th>\n",
       "      <th>std</th>\n",
       "    </tr>\n",
       "    <tr>\n",
       "      <th>Sex</th>\n",
       "      <th></th>\n",
       "      <th></th>\n",
       "      <th></th>\n",
       "      <th></th>\n",
       "    </tr>\n",
       "  </thead>\n",
       "  <tbody>\n",
       "    <tr>\n",
       "      <th>female</th>\n",
       "      <td>312</td>\n",
       "      <td>2.166667</td>\n",
       "      <td>2.0</td>\n",
       "      <td>0.854971</td>\n",
       "    </tr>\n",
       "    <tr>\n",
       "      <th>male</th>\n",
       "      <td>577</td>\n",
       "      <td>2.389948</td>\n",
       "      <td>3.0</td>\n",
       "      <td>0.813580</td>\n",
       "    </tr>\n",
       "  </tbody>\n",
       "</table>\n",
       "</div>"
      ],
      "text/plain": [
       "        count      mean  median       std\n",
       "Sex                                      \n",
       "female    312  2.166667     2.0  0.854971\n",
       "male      577  2.389948     3.0  0.813580"
      ]
     },
     "execution_count": 26,
     "metadata": {},
     "output_type": "execute_result"
    }
   ],
   "source": [
    "stats_by_sex = data_for_study.groupby(\"Sex\", observed=True, dropna=False)[\"Pclass\"].agg([\"count\", \"mean\", \"median\", \"std\"])\n",
    "stats_by_sex"
   ]
  },
  {
   "cell_type": "markdown",
   "metadata": {},
   "source": [
    "Es gibt genau 312 Frauen und 577 Männer, die an diesem Tag an Bord der Titanic gegangen sind."
   ]
  },
  {
   "cell_type": "markdown",
   "metadata": {},
   "source": [
    "**Embarqued**"
   ]
  },
  {
   "cell_type": "code",
   "execution_count": 27,
   "metadata": {},
   "outputs": [
    {
     "data": {
      "text/html": [
       "<div>\n",
       "<style scoped>\n",
       "    .dataframe tbody tr th:only-of-type {\n",
       "        vertical-align: middle;\n",
       "    }\n",
       "\n",
       "    .dataframe tbody tr th {\n",
       "        vertical-align: top;\n",
       "    }\n",
       "\n",
       "    .dataframe thead th {\n",
       "        text-align: right;\n",
       "    }\n",
       "</style>\n",
       "<table border=\"1\" class=\"dataframe\">\n",
       "  <thead>\n",
       "    <tr style=\"text-align: right;\">\n",
       "      <th></th>\n",
       "      <th>count</th>\n",
       "      <th>mean</th>\n",
       "      <th>median</th>\n",
       "      <th>std</th>\n",
       "    </tr>\n",
       "    <tr>\n",
       "      <th>Embarked</th>\n",
       "      <th></th>\n",
       "      <th></th>\n",
       "      <th></th>\n",
       "      <th></th>\n",
       "    </tr>\n",
       "  </thead>\n",
       "  <tbody>\n",
       "    <tr>\n",
       "      <th>C</th>\n",
       "      <td>168</td>\n",
       "      <td>1.886905</td>\n",
       "      <td>1.0</td>\n",
       "      <td>0.944100</td>\n",
       "    </tr>\n",
       "    <tr>\n",
       "      <th>Q</th>\n",
       "      <td>77</td>\n",
       "      <td>2.909091</td>\n",
       "      <td>3.0</td>\n",
       "      <td>0.369274</td>\n",
       "    </tr>\n",
       "    <tr>\n",
       "      <th>S</th>\n",
       "      <td>644</td>\n",
       "      <td>2.350932</td>\n",
       "      <td>3.0</td>\n",
       "      <td>0.789402</td>\n",
       "    </tr>\n",
       "  </tbody>\n",
       "</table>\n",
       "</div>"
      ],
      "text/plain": [
       "          count      mean  median       std\n",
       "Embarked                                   \n",
       "C           168  1.886905     1.0  0.944100\n",
       "Q            77  2.909091     3.0  0.369274\n",
       "S           644  2.350932     3.0  0.789402"
      ]
     },
     "execution_count": 27,
     "metadata": {},
     "output_type": "execute_result"
    }
   ],
   "source": [
    "stats_by_embarked = data_for_study.groupby(\"Embarked\", observed=True, dropna=False)[\"Pclass\"].agg([\"count\", \"mean\", \"median\", \"std\"])\n",
    "\n",
    "stats_by_embarked"
   ]
  },
  {
   "cell_type": "markdown",
   "metadata": {},
   "source": [
    "Es zeigt sich, dass 168 Personen in Cherbourg, 77 in Queenstown und 644 in Southampton an Bord gingen."
   ]
  },
  {
   "cell_type": "markdown",
   "metadata": {},
   "source": [
    "**Age**"
   ]
  },
  {
   "cell_type": "code",
   "execution_count": 28,
   "metadata": {},
   "outputs": [
    {
     "name": "stderr",
     "output_type": "stream",
     "text": [
      "C:\\Users\\ngoum\\AppData\\Local\\Temp\\ipykernel_39384\\3954229500.py:5: FutureWarning: The default of observed=False is deprecated and will be changed to True in a future version of pandas. Pass observed=False to retain current behavior or observed=True to adopt the future default and silence this warning.\n",
      "  age_group_stats = data_for_study.groupby(age_bins)['Age'].agg(['count', 'mean', 'median', 'std'])\n"
     ]
    },
    {
     "data": {
      "text/html": [
       "<div>\n",
       "<style scoped>\n",
       "    .dataframe tbody tr th:only-of-type {\n",
       "        vertical-align: middle;\n",
       "    }\n",
       "\n",
       "    .dataframe tbody tr th {\n",
       "        vertical-align: top;\n",
       "    }\n",
       "\n",
       "    .dataframe thead th {\n",
       "        text-align: right;\n",
       "    }\n",
       "</style>\n",
       "<table border=\"1\" class=\"dataframe\">\n",
       "  <thead>\n",
       "    <tr style=\"text-align: right;\">\n",
       "      <th></th>\n",
       "      <th>count</th>\n",
       "      <th>mean</th>\n",
       "      <th>median</th>\n",
       "      <th>std</th>\n",
       "    </tr>\n",
       "    <tr>\n",
       "      <th>Age</th>\n",
       "      <th></th>\n",
       "      <th></th>\n",
       "      <th></th>\n",
       "      <th></th>\n",
       "    </tr>\n",
       "  </thead>\n",
       "  <tbody>\n",
       "    <tr>\n",
       "      <th>(0, 10]</th>\n",
       "      <td>57</td>\n",
       "      <td>4.701754</td>\n",
       "      <td>4.0</td>\n",
       "      <td>2.865839</td>\n",
       "    </tr>\n",
       "    <tr>\n",
       "      <th>(10, 20]</th>\n",
       "      <td>116</td>\n",
       "      <td>17.336207</td>\n",
       "      <td>18.0</td>\n",
       "      <td>2.202544</td>\n",
       "    </tr>\n",
       "    <tr>\n",
       "      <th>(20, 30]</th>\n",
       "      <td>415</td>\n",
       "      <td>26.612048</td>\n",
       "      <td>28.0</td>\n",
       "      <td>2.542651</td>\n",
       "    </tr>\n",
       "    <tr>\n",
       "      <th>(30, 40]</th>\n",
       "      <td>154</td>\n",
       "      <td>35.142857</td>\n",
       "      <td>35.0</td>\n",
       "      <td>2.870696</td>\n",
       "    </tr>\n",
       "    <tr>\n",
       "      <th>(40, 50]</th>\n",
       "      <td>84</td>\n",
       "      <td>45.476190</td>\n",
       "      <td>45.0</td>\n",
       "      <td>2.881082</td>\n",
       "    </tr>\n",
       "    <tr>\n",
       "      <th>(50, 60]</th>\n",
       "      <td>42</td>\n",
       "      <td>54.880952</td>\n",
       "      <td>54.0</td>\n",
       "      <td>2.989432</td>\n",
       "    </tr>\n",
       "    <tr>\n",
       "      <th>(60, 70]</th>\n",
       "      <td>17</td>\n",
       "      <td>64.352941</td>\n",
       "      <td>64.0</td>\n",
       "      <td>3.101233</td>\n",
       "    </tr>\n",
       "    <tr>\n",
       "      <th>(70, 80]</th>\n",
       "      <td>4</td>\n",
       "      <td>74.000000</td>\n",
       "      <td>72.5</td>\n",
       "      <td>4.242641</td>\n",
       "    </tr>\n",
       "  </tbody>\n",
       "</table>\n",
       "</div>"
      ],
      "text/plain": [
       "          count       mean  median       std\n",
       "Age                                         \n",
       "(0, 10]      57   4.701754     4.0  2.865839\n",
       "(10, 20]    116  17.336207    18.0  2.202544\n",
       "(20, 30]    415  26.612048    28.0  2.542651\n",
       "(30, 40]    154  35.142857    35.0  2.870696\n",
       "(40, 50]     84  45.476190    45.0  2.881082\n",
       "(50, 60]     42  54.880952    54.0  2.989432\n",
       "(60, 70]     17  64.352941    64.0  3.101233\n",
       "(70, 80]      4  74.000000    72.5  4.242641"
      ]
     },
     "execution_count": 28,
     "metadata": {},
     "output_type": "execute_result"
    }
   ],
   "source": [
    "\n",
    "# Erstelle Altersintervalle von 10 Jahren\n",
    "age_bins = pd.cut(data_for_study['Age'], bins=range(0, 81, 10))\n",
    "\n",
    "# Gruppiere nach diesen Altersintervallen und berechne die Statistiken.\n",
    "age_group_stats = data_for_study.groupby(age_bins)['Age'].agg(['count', 'mean', 'median', 'std'])\n",
    "\n",
    "# Zeige die Ergebnisse\n",
    "age_group_stats"
   ]
  },
  {
   "cell_type": "markdown",
   "metadata": {},
   "source": [
    "Die Mehrheit der Passagiere der Titanic waren junge Erwachsene, insbesondere in der Altersgruppe der 20- bis 30-Jährigen, die die meisten Passagiere (415) zählte. Das Alter variiert in der Regel gleichmäßig in jedem Intervall, mit einer Tendenz zur Normalität in der Altersverteilung, mit Ausnahme der Altersgruppe 70-80 Jahre, in der es nur 4 Passagiere gibt."
   ]
  },
  {
   "cell_type": "markdown",
   "metadata": {},
   "source": [
    "#### Versuchen wir jetzt , die predictive Variable zusammen mit der Leitvariable **Survived** zu interagieren"
   ]
  },
  {
   "cell_type": "markdown",
   "metadata": {},
   "source": [
    "**Survived** Vs **Pclass**"
   ]
  },
  {
   "cell_type": "code",
   "execution_count": 29,
   "metadata": {},
   "outputs": [
    {
     "data": {
      "text/html": [
       "<div>\n",
       "<style scoped>\n",
       "    .dataframe tbody tr th:only-of-type {\n",
       "        vertical-align: middle;\n",
       "    }\n",
       "\n",
       "    .dataframe tbody tr th {\n",
       "        vertical-align: top;\n",
       "    }\n",
       "\n",
       "    .dataframe thead th {\n",
       "        text-align: right;\n",
       "    }\n",
       "</style>\n",
       "<table border=\"1\" class=\"dataframe\">\n",
       "  <thead>\n",
       "    <tr style=\"text-align: right;\">\n",
       "      <th>Pclass</th>\n",
       "      <th>1</th>\n",
       "      <th>2</th>\n",
       "      <th>3</th>\n",
       "    </tr>\n",
       "    <tr>\n",
       "      <th>Survived</th>\n",
       "      <th></th>\n",
       "      <th></th>\n",
       "      <th></th>\n",
       "    </tr>\n",
       "  </thead>\n",
       "  <tbody>\n",
       "    <tr>\n",
       "      <th>0</th>\n",
       "      <td>80</td>\n",
       "      <td>97</td>\n",
       "      <td>372</td>\n",
       "    </tr>\n",
       "    <tr>\n",
       "      <th>1</th>\n",
       "      <td>134</td>\n",
       "      <td>87</td>\n",
       "      <td>119</td>\n",
       "    </tr>\n",
       "  </tbody>\n",
       "</table>\n",
       "</div>"
      ],
      "text/plain": [
       "Pclass      1   2    3\n",
       "Survived              \n",
       "0          80  97  372\n",
       "1         134  87  119"
      ]
     },
     "execution_count": 29,
     "metadata": {},
     "output_type": "execute_result"
    }
   ],
   "source": [
    "survival_by_class = data_for_study.groupby(['Survived', 'Pclass']).size().unstack()\n",
    "\n",
    "survival_by_class"
   ]
  },
  {
   "cell_type": "markdown",
   "metadata": {},
   "source": [
    "- Von 214 registrierten Personen der Klasse 1 gab es 80 Todesfälle und 134 Überlebende \n",
    "- Von 184 registrierten Personen der Klasse 2 gab es 97 Todesfälle und 87 Überlebende \n",
    "- Von 491 registrierten Personen der Klasse 3 gab es 372 Todesfälle und 119 Überlebende.\n",
    "\n",
    "\n",
    "Insgesamt wurden in der Klasse 3 genauso viele Personen registriert, was zu einer sehr hohen Zahl von Todesfällen führte."
   ]
  },
  {
   "cell_type": "markdown",
   "metadata": {},
   "source": [
    "**Survived( Fokus auf Dead)** Vs **Sex**"
   ]
  },
  {
   "cell_type": "code",
   "execution_count": 31,
   "metadata": {},
   "outputs": [
    {
     "name": "stdout",
     "output_type": "stream",
     "text": [
      "Sex\n",
      "female     81\n",
      "male      468\n",
      "dtype: int64\n"
     ]
    }
   ],
   "source": [
    "# Verstorbene Passagiere filtern (Survived = 0)\n",
    "deceased_passengers = data_for_study[data_for_study['Survived'] == 0]\n",
    "\n",
    "# Nach Geschlecht gruppieren und die Anzahl der Todesfälle zählen\n",
    "deceased_by_sex = deceased_passengers.groupby('Sex').size()\n",
    "# Zeige die Ergebnisse\n",
    "print(deceased_by_sex)"
   ]
  },
  {
   "cell_type": "markdown",
   "metadata": {},
   "source": [
    "Von den 549 Verstorbenen sind genau 81 weiblich und 468 männlich. Es gibt jedoch mehr Todesfälle im männlichen Geschlecht."
   ]
  },
  {
   "cell_type": "markdown",
   "metadata": {},
   "source": [
    "**Survived( Fokus auf Survival)** Vs **Sex**"
   ]
  },
  {
   "cell_type": "code",
   "execution_count": 33,
   "metadata": {},
   "outputs": [
    {
     "name": "stdout",
     "output_type": "stream",
     "text": [
      "Sex\n",
      "female    231\n",
      "male      109\n",
      "dtype: int64\n"
     ]
    }
   ],
   "source": [
    "# Verstorbene Passagiere filtern (Survived = 1)\n",
    "survival_passengers = data_for_study[data_for_study['Survived'] == 1]\n",
    "\n",
    "# Nach Geschlecht gruppieren und die Anzahl der Todesfälle zählen\n",
    "survival_by_sex = survival_passengers.groupby('Sex').size()\n",
    "\n",
    "# Zeige die Ergebnisse\n",
    "print(survival_by_sex )"
   ]
  },
  {
   "cell_type": "markdown",
   "metadata": {},
   "source": [
    "Von den 340 überlebenden Personen sind genau 231 weiblich und 109 männlich. Allerdings gibt es mehr Überlebende im weiblichen Geschlecht."
   ]
  },
  {
   "cell_type": "markdown",
   "metadata": {},
   "source": [
    "Diese Ergebnisse können das Ergebnis von Rettungsprioritaten sein oder mit anderen Faktoren wie dem Alter oder physiologischen Faktoren wie dem Stoffwechsel des Menschen zusammenhangen."
   ]
  },
  {
   "cell_type": "markdown",
   "metadata": {},
   "source": [
    "**Survived(Fokus auf Dead)** Vs **Age**"
   ]
  },
  {
   "cell_type": "code",
   "execution_count": 38,
   "metadata": {},
   "outputs": [
    {
     "name": "stderr",
     "output_type": "stream",
     "text": [
      "C:\\Users\\ngoum\\AppData\\Local\\Temp\\ipykernel_39384\\3808452350.py:1: FutureWarning: The default of observed=False is deprecated and will be changed to True in a future version of pandas. Pass observed=False to retain current behavior or observed=True to adopt the future default and silence this warning.\n",
      "  deaths_by_age_group = data_for_study[data_for_study['Survived'] == 0].groupby(age_bins)['Survived'].count()\n"
     ]
    },
    {
     "data": {
      "text/plain": [
       "Age\n",
       "(0, 10]      26\n",
       "(10, 20]     72\n",
       "(20, 30]    272\n",
       "(30, 40]     86\n",
       "(40, 50]     51\n",
       "(50, 60]     25\n",
       "(60, 70]     14\n",
       "(70, 80]      3\n",
       "Name: Survived, dtype: int64"
      ]
     },
     "execution_count": 38,
     "metadata": {},
     "output_type": "execute_result"
    }
   ],
   "source": [
    "deaths_by_age_group = data_for_study[data_for_study['Survived'] == 0].groupby(age_bins)['Survived'].count()\n",
    "\n",
    "deaths_by_age_group"
   ]
  },
  {
   "cell_type": "markdown",
   "metadata": {},
   "source": [
    "(0, 10] Jahre: 26 Todesfälle \n",
    "Zusammenfassung: Von den 57 Kindern im Alter von 0 bis 10 Jahren starben 26.\n",
    "\n",
    "(10, 20] Jahre: 72 Todesfälle \n",
    "Zusammenfassung: Von den 116 Jugendlichen im Alter von 10 bis 20 Jahren kamen 72 ums Leben.\n",
    "\n",
    "(20, 30] Jahre: 272 Todesfälle \n",
    "Zusammenfassung: Die Altersgruppe der 20- bis 30-Jährigen hatte mit 272 Todesfällen die meisten Verluste zu beklagen. Dies deutet darauf hin, dass die Mehrheit der Opfer in dieser Altersgruppe zu finden war.\n",
    "\n",
    "(30, 40] Jahre: 86 Todesfälle \n",
    "Zusammenfassung: Von den 154 Passagieren im Alter zwischen 30 und 40 Jahren starben 86.\n",
    "\n",
    "(40, 50] Jahre: 51 Todesfälle \n",
    "Zusammenfassung: Von den 84 Personen im Alter von 40 bis 50 Jahren starben 51.\n",
    "\n",
    "(50, 60] Jahre: 25 Todesfälle \n",
    "Zusammenfassung: Von den 42 Personen im Alter von 50 bis 60 Jahren kamen 25 ums Leben.\n",
    "\n",
    "(60, 70] Jahre: 14 Todesfälle \n",
    "Zusammenfassung: Von den 17 Personen im Alter von 60 bis 70 Jahren starben 14.\n",
    "\n",
    "(70, 80] Jahre: 3 Todesfälle \n",
    "Zusammenfassung: Von den 4 Passagieren im Alter von 70 bis 80 Jahren starben 3 und somit nur 1 Überlebender.\n",
    "\n",
    "Das Ergebnis zeigt, dass die Mehrheit der Todesfälle jüngere Passagiere betraf, insbesondere solche im Alter von 20 bis 30 Jahren. In den höheren Altersgruppen (60 Jahre und älter) ist die Zahl der Todesfälle im Verhältnis zur Zahl der Reisenden signifikant.\n",
    "\n",
    "\n"
   ]
  },
  {
   "cell_type": "markdown",
   "metadata": {},
   "source": [
    "**Survived (Fokus survival)** Vs **Age**"
   ]
  },
  {
   "cell_type": "code",
   "execution_count": 39,
   "metadata": {},
   "outputs": [
    {
     "name": "stderr",
     "output_type": "stream",
     "text": [
      "C:\\Users\\ngoum\\AppData\\Local\\Temp\\ipykernel_39384\\3408964680.py:1: FutureWarning: The default of observed=False is deprecated and will be changed to True in a future version of pandas. Pass observed=False to retain current behavior or observed=True to adopt the future default and silence this warning.\n",
      "  survival_by_age_group = data_for_study[data_for_study['Survived'] == 1].groupby(age_bins)['Survived'].count()\n"
     ]
    },
    {
     "data": {
      "text/plain": [
       "Age\n",
       "(0, 10]      31\n",
       "(10, 20]     44\n",
       "(20, 30]    143\n",
       "(30, 40]     68\n",
       "(40, 50]     33\n",
       "(50, 60]     17\n",
       "(60, 70]      3\n",
       "(70, 80]      1\n",
       "Name: Survived, dtype: int64"
      ]
     },
     "execution_count": 39,
     "metadata": {},
     "output_type": "execute_result"
    }
   ],
   "source": [
    "survival_by_age_group = data_for_study[data_for_study['Survived'] == 1].groupby(age_bins)['Survived'].count()\n",
    "survival_by_age_group"
   ]
  },
  {
   "cell_type": "markdown",
   "metadata": {},
   "source": [
    "Das Ergebnis zeigt, dass die Mehrheit der Überlebenden auch jüngere Passagiere sind, insbesondere im Alter zwischen 20 und 30 Jahren. Die höheren Altersgruppen (60 Jahre und älter) verzeichnen ebenfalls eine signifikante Anzahl an Todesfällen, die im Verhältnis zur Anzahl der Registrierungen stehen."
   ]
  },
  {
   "cell_type": "markdown",
   "metadata": {},
   "source": [
    "## VISUALISIERUNG"
   ]
  }
 ],
 "metadata": {
  "kernelspec": {
   "display_name": "Python 3",
   "language": "python",
   "name": "python3"
  },
  "language_info": {
   "codemirror_mode": {
    "name": "ipython",
    "version": 3
   },
   "file_extension": ".py",
   "mimetype": "text/x-python",
   "name": "python",
   "nbconvert_exporter": "python",
   "pygments_lexer": "ipython3",
   "version": "3.12.2"
  }
 },
 "nbformat": 4,
 "nbformat_minor": 2
}
